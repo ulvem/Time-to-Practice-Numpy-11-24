{
  "nbformat": 4,
  "nbformat_minor": 0,
  "metadata": {
    "colab": {
      "provenance": [],
      "include_colab_link": true
    },
    "kernelspec": {
      "name": "python3",
      "display_name": "Python 3"
    },
    "language_info": {
      "name": "python"
    }
  },
  "cells": [
    {
      "cell_type": "markdown",
      "metadata": {
        "id": "view-in-github",
        "colab_type": "text"
      },
      "source": [
        "<a href=\"https://colab.research.google.com/github/ulvem/Time-to-Practice-Numpy-11-24/blob/main/copy_of_time_to_practice_numpy_1.ipynb\" target=\"_parent\"><img src=\"https://colab.research.google.com/assets/colab-badge.svg\" alt=\"Open In Colab\"/></a>"
      ]
    },
    {
      "cell_type": "markdown",
      "source": [
        "<img height=\"180px\" src=\"https://drive.google.com/uc?export=view&id=141XOz6N4nk8Ru1sAl7vOsAToCLrSFCAX\" alt=\"SDA logo\" align=\"left\" hspace=\"30px\" vspace=\"50px\"/>\n",
        "\n",
        "# Welcome to your next notebook with SDA!\n",
        "\n",
        "During the classes we will mostly use [Google Colaboratory](https://colab.research.google.com/?hl=en) which is a free Jupyter notebook environment that requires no setup and runs entirely in the cloud.\n",
        "\n",
        "However, for bigger projects, especially involving Deep Learning and/or big data reading, it might be a better choice to setup Jupyter Notebook or Jupyter Lab on your computer. Also, it is worth noticing that there is a great number of useful extensions (see [nbextensions](https://jupyter-contrib-nbextensions.readthedocs.io/en/latest/index.html) and [jupyter-labextension](https://jupyterlab.readthedocs.io/en/stable/user/extensions.html)) not available for Colab users."
      ],
      "metadata": {
        "id": "-XWt3nPFhENg"
      }
    },
    {
      "cell_type": "markdown",
      "source": [
        "<img src=\"https://drive.google.com/uc?export=view&id=1UO2urRciECzoKE_vHy4RMGfFbkOWOGlW\" alt=\"SDA logo\" align=\"left\" width=\"100px\" hspace=\"10px\" vspace=\"10px\"/>\n",
        "<br>\n",
        "\n",
        "# TASKS"
      ],
      "metadata": {
        "id": "_pi_0qQeiZ-0"
      }
    },
    {
      "cell_type": "markdown",
      "source": [
        "<img src=\"https://drive.google.com/uc?export=view&id=141XOz6N4nk8Ru1sAl7vOsAToCLrSFCAX\" alt=\"SDA logo\" width=\"150\" align='right'/>\n",
        "<br>\n",
        "\n",
        "## Linear Algebra"
      ],
      "metadata": {
        "id": "rzZ3BUSfijKe"
      }
    },
    {
      "cell_type": "markdown",
      "source": [
        "### **<font color='#306998'>TASKS </font><font color='#ffd33b'>1.1 - 1.10</font>** should be already completed :)"
      ],
      "metadata": {
        "id": "2SAWPPl8ipUl"
      }
    },
    {
      "cell_type": "markdown",
      "source": [
        "### **<font color='#306998'>TASK </font><font color='#ffd33b'>1.11</font>**\n",
        "\n",
        "For the matrix from task 1.7:\n",
        "* calculate its determinant,\n",
        "* calculate its trace (the sum of elements on the main diagonal),\n",
        "* find the largest and smallest item.\n",
        "\n",
        "$$\n",
        "A=\n",
        "\\begin{bmatrix}\n",
        "1 & 2 & 3 & 4 \\\\\n",
        "5 & 6 & 7 & 8 \\\\\n",
        "9 & 10 & 11 & 12 \\\\\n",
        "13 & 14 & 15 & 16\n",
        "\\end{bmatrix}\n",
        "$$"
      ],
      "metadata": {
        "id": "FquByg7fjLiz"
      }
    },
    {
      "cell_type": "code",
      "source": [
        "import numpy as np\n",
        "\n",
        "# Define the matrix A\n",
        "A = np.array([[1, 2, 3, 4],\n",
        "              [5, 6, 7, 8],\n",
        "              [9, 10, 11, 12],\n",
        "              [13, 14, 15, 16]])\n",
        "\n",
        "# Calculate the determinant of A\n",
        "det_A = np.linalg.det(A)\n",
        "print(\"Determinant of A:\", det_A)\n",
        "# Calculate the trace of A\n",
        "trace_A = np.trace(A)\n",
        "print(\"Trace of A:\", trace_A)\n",
        "# Find the largest and smallest items in A\n",
        "max_A = np.max(A)\n",
        "min_A = np.min(A)\n",
        "print(\"Largest item in A:\", max_A)\n",
        "print(\"Smallest item in A:\", min_A)\n",
        "\n"
      ],
      "metadata": {
        "id": "-J54TJx52f_7",
        "colab": {
          "base_uri": "https://localhost:8080/"
        },
        "outputId": "e295405b-6389-4cd6-f2d9-051cbb95711c"
      },
      "execution_count": null,
      "outputs": [
        {
          "output_type": "stream",
          "name": "stdout",
          "text": [
            "Determinant of A: 0.0\n",
            "Trace of A: 34\n",
            "Largest item in A: 16\n",
            "Smallest item in A: 1\n"
          ]
        }
      ]
    },
    {
      "cell_type": "markdown",
      "source": [
        "### **<font color='#306998'>TASK </font><font color='#ffd33b'>1.12</font>**\n",
        "\n",
        "Define two `3x3` real matrices, ie. whose elements consist entirely of real numbers. For the first matrix, draw the numbers from standard normal (Gaussian) distribution, ie. $\\mu = 0$ and $\\sigma = 1$. For the second one, set the standard devation to 1 and mean value to 5.\n",
        "\n",
        "**See Appendix.**\n",
        "\n",
        "Next, for each of them:\n",
        "* multiply all elements by a scalar 10,\n",
        "* extract the element in the middle,\n",
        "* transpose them\n",
        "* get its trace & sum of all elements\n",
        "\n",
        "and calculate their:\n",
        "* sum\n",
        "* difference\n",
        "* element-wise multiplication result\n",
        "* element-wise division result\n",
        "* matrix product (matrix multiplication)"
      ],
      "metadata": {
        "id": "V-TQENnFx1cd"
      }
    },
    {
      "cell_type": "code",
      "source": [
        "import numpy as np\n",
        "\n",
        "# Define the matrices\n",
        "A = np.random.normal(0, 1, (3, 3))\n",
        "B = np.random.normal(5, 1, (3, 3))\n",
        "\n",
        "# Multiply all elements by a scalar 10\n",
        "A_scaled = A * 10\n",
        "B_scaled = B * 10\n",
        "\n",
        "# Extract the element in the middle\n",
        "A_middle = A_scaled[1, 1]\n",
        "B_middle = B_scaled[1, 1]\n",
        "\n",
        "# Transpose the matrices\n",
        "A_transposed = A_scaled.T\n",
        "B_transposed = B_scaled.T\n",
        "\n",
        "# Calculate the trace (sum of elements on the main diagonal)\n",
        "A_trace = np.trace(A_scaled)\n",
        "B_trace = np.trace(B_scaled)\n",
        "\n",
        "# Calculate the sum of all elements\n",
        "A_sum = np.sum(A_scaled)\n",
        "B_sum = np.sum(B_scaled)\n",
        "\n",
        "# Calculate their sum\n",
        "sum_matrices = A_scaled + B_scaled\n",
        "\n",
        "# Calculate their difference\n",
        "difference_matrices = A_scaled - B_scaled\n",
        "\n",
        "# Calculate element-wise multiplication\n",
        "elementwise_multiplication = A_scaled * B_scaled\n",
        "\n",
        "# Calculate element-wise division\n",
        "elementwise_division = A_scaled / B_scaled\n",
        "\n",
        "# Calculate matrix product (matrix multiplication)\n",
        "matrix_product = np.dot(A_scaled, B_scaled)\n",
        "\n",
        "# Print the results\n",
        "print(\"Matrix A (scaled):\\n\", A_scaled)\n",
        "print(\"Matrix B (scaled):\\n\", B_scaled)\n",
        "print(\"Middle element of A:\", A_middle)\n",
        "print(\"Middle element of B:\", B_middle)\n",
        "print(\"Transpose of A:\\n\", A_transposed)\n",
        "print(\"Transpose of B:\\n\", B_transposed)\n",
        "print(\"Trace of A:\", A_trace)\n",
        "print(\"Trace of B:\", B_trace)\n",
        "print(\"Sum of all elements in A:\", A_sum)\n",
        "print(\"Sum of all elements in B:\", B_sum)\n",
        "print(\"Sum of matrices:\\n\", sum_matrices)\n",
        "print(\"Difference of matrices:\\n\", difference_matrices)\n",
        "print(\"Element-wise multiplication:\\n\", elementwise_multiplication)\n",
        "print(\"Element-wise division:\\n\", elementwise_division)\n",
        "print(\"Matrix product:\\n\", matrix_product)\n"
      ],
      "metadata": {
        "id": "dF1sfAbh2l8G",
        "colab": {
          "base_uri": "https://localhost:8080/"
        },
        "outputId": "9d2cca0c-e978-4be2-e4a9-10f8412be727"
      },
      "execution_count": null,
      "outputs": [
        {
          "output_type": "stream",
          "name": "stdout",
          "text": [
            "Matrix A (scaled):\n",
            " [[  2.9705816  -11.4716069   -4.36248322]\n",
            " [ -9.31687354  -3.82540592  -4.02710867]\n",
            " [ -8.31055498   0.91517995  17.91282323]]\n",
            "Matrix B (scaled):\n",
            " [[39.78750169 52.18776647 31.82693335]\n",
            " [54.23166674 60.75001494 35.23173022]\n",
            " [37.58787462 47.86003872 56.09203451]]\n",
            "Middle element of A: -3.8254059174130717\n",
            "Middle element of B: 60.75001493928554\n",
            "Transpose of A:\n",
            " [[  2.9705816   -9.31687354  -8.31055498]\n",
            " [-11.4716069   -3.82540592   0.91517995]\n",
            " [ -4.36248322  -4.02710867  17.91282323]]\n",
            "Transpose of B:\n",
            " [[39.78750169 54.23166674 37.58787462]\n",
            " [52.18776647 60.75001494 47.86003872]\n",
            " [31.82693335 35.23173022 56.09203451]]\n",
            "Trace of A: 17.057998915228996\n",
            "Trace of B: 156.6295511423253\n",
            "Sum of all elements in A: -19.515448461579425\n",
            "Sum of all elements in B: 415.555561271462\n",
            "Sum of matrices:\n",
            " [[42.75808329 40.71615957 27.46445013]\n",
            " [44.9147932  56.92460902 31.20462155]\n",
            " [29.27731963 48.77521867 74.00485774]]\n",
            "Difference of matrices:\n",
            " [[-36.8169201  -63.65937337 -36.18941658]\n",
            " [-63.54854028 -64.57542086 -39.2588389 ]\n",
            " [-45.8984296  -46.94485878 -38.17921127]]\n",
            "Element-wise multiplication:\n",
            " [[ 118.19202035 -598.67754188 -138.84446284]\n",
            " [-505.26958093 -232.39346663 -141.88200639]\n",
            " [-312.37609878   43.80054767 1004.76669906]]\n",
            "Element-wise division:\n",
            " [[ 0.07466117 -0.2198141  -0.13706892]\n",
            " [-0.17179766 -0.06296963 -0.11430346]\n",
            " [-0.2210967   0.01912201  0.31934701]]\n",
            "Matrix product:\n",
            " [[-667.90881445 -750.66088784 -554.32061653]\n",
            " [-729.52371656 -911.3578643  -657.19190124]\n",
            " [ 392.28046713  479.1963063   772.51059241]]\n"
          ]
        }
      ]
    },
    {
      "cell_type": "markdown",
      "source": [
        "### **<font color='#306998'>TASK </font><font color='#ffd33b'>1.14</font>**\n",
        "\n",
        "Create an array with the following elements: `[23, 45, 124, 112, 150, 43, 25, 17, 268, 254, 95, 97, 8]` and filter out the ones that are less than or equal to their mean value. How many such numbers are there?"
      ],
      "metadata": {
        "id": "b_LyBRSk53CY"
      }
    },
    {
      "cell_type": "code",
      "source": [
        "# Define the array\n",
        "array = np.array([23, 45, 124, 112, 150, 43, 25, 17, 268, 254, 95, 97, 8])\n",
        "\n",
        "# Calculate the mean value of the array\n",
        "mean_value = np.mean(array)\n",
        "\n",
        "# Filter out the elements that are less than or equal to the mean value\n",
        "filtered_array = array[array <= mean_value]\n",
        "\n",
        "# Count the number of such elements\n",
        "count_filtered = len(filtered_array)\n",
        "\n",
        "print(\"Filtered elements:\", filtered_array)\n",
        "print(\"Number of elements less than or equal to the mean value:\", count_filtered)\n"
      ],
      "metadata": {
        "id": "D2lVNEsk2puf",
        "colab": {
          "base_uri": "https://localhost:8080/"
        },
        "outputId": "fffb1ee0-ee34-45c2-9571-e8a1dce912e1"
      },
      "execution_count": null,
      "outputs": [
        {
          "output_type": "stream",
          "name": "stdout",
          "text": [
            "Filtered elements: [23 45 43 25 17 95 97  8]\n",
            "Number of elements less than or equal to the mean value: 8\n"
          ]
        }
      ]
    },
    {
      "cell_type": "markdown",
      "source": [
        "### **<font color='#306998'>TASK </font><font color='#ffd33b'>1.15</font>**\n",
        "\n",
        "Use the array defined above to evaluate mean value and standard deviation. Check how many of these numbers is within a distance of at most one standard deviation from the mean, ie. belongs to the closed interval `[mean - std, mean + std]`."
      ],
      "metadata": {
        "id": "q4d0Tjig6Yae"
      }
    },
    {
      "cell_type": "code",
      "source": [
        "# Define the array\n",
        "array = np.array([23, 45, 124, 112, 150, 43, 25, 17, 268, 254, 95, 97, 8])\n",
        "\n",
        "# Calculate the mean value of the array\n",
        "mean_value = np.mean(array)\n",
        "print(\"Mean value:\", mean_value)\n",
        "\n",
        "# Calculate the standard deviation of the array\n",
        "std_deviation = np.std(array)\n",
        "print(\"Standard deviation:\", std_deviation)\n",
        "\n",
        "# Define the interval [mean - std, mean + std]\n",
        "lower_bound = mean_value - std_deviation\n",
        "upper_bound = mean_value + std_deviation\n",
        "\n",
        "# Filter the elements that fall within the interval\n",
        "within_one_std = array[(array >= lower_bound) & (array <= upper_bound)]\n",
        "\n",
        "# Count the number of such elements\n",
        "count_within_one_std = len(within_one_std)\n",
        "\n",
        "print(\"Elements within one standard deviation:\", within_one_std)\n",
        "print(\"Number of elements within one standard deviation:\", count_within_one_std)\n"
      ],
      "metadata": {
        "id": "s4W-nXMa2qvy",
        "colab": {
          "base_uri": "https://localhost:8080/"
        },
        "outputId": "4791b363-5a7a-4e9f-949b-7d060d81f1b5"
      },
      "execution_count": null,
      "outputs": [
        {
          "output_type": "stream",
          "name": "stdout",
          "text": [
            "Mean value: 97.0\n",
            "Standard deviation: 82.3958550115048\n",
            "Elements within one standard deviation: [ 23  45 124 112 150  43  25  17  95  97]\n",
            "Number of elements within one standard deviation: 10\n"
          ]
        }
      ]
    },
    {
      "cell_type": "markdown",
      "source": [
        "### **<font color='#306998'>TASK </font><font color='#ffd33b'>1.16</font>**\n",
        "\n",
        "Write a function `get_sum_of_squared_naturals()` that takes one argument as an input (call it `max_value`) and returns the sum of all natural numbers such that $k \\leq max\\_value.$\n",
        "\n",
        "Make sure that the input given by a user is a natural number. Set the default value to 5."
      ],
      "metadata": {
        "id": "xt2tc1W2694T"
      }
    },
    {
      "cell_type": "code",
      "source": [
        "def get_sum_of_squared_naturals(max_value=5):\n",
        "    # Check if the input is a natural number\n",
        "    if not isinstance(max_value, int) or max_value <= 0:\n",
        "        raise ValueError(\"The input must be a natural number greater than 0.\")\n",
        "\n",
        "    # Calculate the sum of the squares of all natural numbers less than or equal to max_value\n",
        "    sum_of_squares = sum(k**2 for k in range(1, max_value + 1))\n",
        "\n",
        "    return sum_of_squares\n",
        "\n",
        "# Example usage\n",
        "result = get_sum_of_squared_naturals(5)\n",
        "print(\"Sum of squared naturals:\", result)\n"
      ],
      "metadata": {
        "id": "aeJipI3c2sa2",
        "colab": {
          "base_uri": "https://localhost:8080/"
        },
        "outputId": "874caf61-69b1-4dfd-d986-0d62428bdf75"
      },
      "execution_count": null,
      "outputs": [
        {
          "output_type": "stream",
          "name": "stdout",
          "text": [
            "Sum of squared naturals: 55\n"
          ]
        }
      ]
    },
    {
      "cell_type": "markdown",
      "source": [
        "### **<font color='#306998'>TASK </font><font color='#ffd33b'>1.17</font>**\n",
        "\n",
        "Create the following 4x4 matrix 4x4, and then:\n",
        "* print out an element from the second row and the third column (starting from 1),\n",
        "* check which element is equal to 0,\n",
        "* with array indexing:\n",
        "    * display element equal to 3,\n",
        "    * view vector `[3, 11, 0]`,\n",
        "* calculate its:\n",
        "    * determinant,\n",
        "    * trace (sum of diagonal entries),\n",
        "    * the maximum and mininum elements,\n",
        "    * the mean value of each column,\n",
        "    * the maximum value of each row,\n",
        "* find its transposition and multiply both matrices mathematically, ie. get the product of $A \\cdot A^T,$\n",
        "* determine its eigenvalues and eigenvectors. (optional)\n",
        "\n",
        "```\n",
        "np.array([\n",
        "    [1, 15, 4, 13],\n",
        "    [8, 21, 3, 12],\n",
        "    [11, 13, 11, 5],\n",
        "    [32, 13, 0, 2]\n",
        "])\n",
        "```"
      ],
      "metadata": {
        "id": "gumAcno1Ks93"
      }
    },
    {
      "cell_type": "code",
      "source": [
        "# Define the matrix A\n",
        "A = np.array([\n",
        "    [1, 15, 4, 13],\n",
        "    [8, 21, 3, 12],\n",
        "    [11, 13, 11, 5],\n",
        "    [32, 13, 0, 2]\n",
        "])\n",
        "\n",
        "# Print out an element from the second row and the third column (starting from 1)\n",
        "element_2_3 = A[1, 2]\n",
        "print(\"Element from the second row and the third column:\", element_2_3)\n",
        "\n",
        "# Check which element is equal to 0\n",
        "zero_elements = np.where(A == 0)\n",
        "print(\"Elements equal to 0:\", zero_elements)\n",
        "\n",
        "# Display element equal to 3\n",
        "element_equal_3 = np.where(A == 3)\n",
        "print(\"Element equal to 3:\", element_equal_3)\n",
        "\n",
        "# View vector [3, 11, 0]\n",
        "vector = A[:, [2, 0, 3]]\n",
        "print(\"Vector [3, 11, 0]:\", vector)\n",
        "\n",
        "# Calculate the determinant\n",
        "det_A = np.linalg.det(A)\n",
        "print(\"Determinant of A:\", det_A)\n",
        "\n",
        "# Calculate the trace (sum of diagonal entries)\n",
        "trace_A = np.trace(A)\n",
        "print(\"Trace of A:\", trace_A)\n",
        "\n",
        "# Find the maximum and minimum elements\n",
        "max_A = np.max(A)\n",
        "min_A = np.min(A)\n",
        "print(\"Maximum element in A:\", max_A)\n",
        "print(\"Minimum element in A:\", min_A)\n",
        "\n",
        "# Calculate the mean value of each column\n",
        "mean_columns = np.mean(A, axis=0)\n",
        "print(\"Mean value of each column:\", mean_columns)\n",
        "\n",
        "# Find the maximum value of each row\n",
        "max_rows = np.max(A, axis=1)\n",
        "print(\"Maximum value of each row:\", max_rows)\n",
        "\n",
        "# Find its transposition and multiply both matrices mathematically (A * A^T)\n",
        "A_transposed = A.T\n",
        "product_A_AT = np.dot(A, A_transposed)\n",
        "print(\"Product of A and A^T:\\n\", product_A_AT)\n",
        "\n",
        "# Determine its eigenvalues and eigenvectors (optional)\n",
        "eigenvalues, eigenvectors = np.linalg.eig(A)\n",
        "print(\"Eigenvalues of A:\", eigenvalues)\n",
        "print(\"Eigenvectors of A:\\n\", eigenvectors)\n"
      ],
      "metadata": {
        "id": "VCE_5vg22toW",
        "colab": {
          "base_uri": "https://localhost:8080/"
        },
        "outputId": "6e0baa67-a4e9-4e86-f006-6c5a4f0c0745"
      },
      "execution_count": null,
      "outputs": [
        {
          "output_type": "stream",
          "name": "stdout",
          "text": [
            "Element from the second row and the third column: 3\n",
            "Elements equal to 0: (array([3]), array([2]))\n",
            "Element equal to 3: (array([1]), array([2]))\n",
            "Vector [3, 11, 0]: [[ 4  1 13]\n",
            " [ 3  8 12]\n",
            " [11 11  5]\n",
            " [ 0 32  2]]\n",
            "Determinant of A: -19963.99999999999\n",
            "Trace of A: 35\n",
            "Maximum element in A: 32\n",
            "Minimum element in A: 0\n",
            "Mean value of each column: [13.  15.5  4.5  8. ]\n",
            "Maximum value of each row: [15 21 13 32]\n",
            "Product of A and A^T:\n",
            " [[ 411  491  315  253]\n",
            " [ 491  658  454  553]\n",
            " [ 315  454  436  531]\n",
            " [ 253  553  531 1197]]\n",
            "Eigenvalues of A: [ 41.24366578 -18.12008708   3.01436162   8.86205968]\n",
            "Eigenvectors of A:\n",
            " [[-0.42552168 -0.46858888 -0.27614717  0.02912145]\n",
            " [-0.55379568 -0.17594186  0.6248671  -0.13789778]\n",
            " [-0.48050507  0.10806928 -0.19647432  0.98203903]\n",
            " [-0.53043051  0.858947   -0.70333611 -0.12544114]]\n"
          ]
        }
      ]
    },
    {
      "cell_type": "markdown",
      "source": [
        "### **<font color='#306998'>TASK </font><font color='#ffd33b'>1.18</font>**\n",
        "\n",
        "Create a 3x3 array and normalize its columns, ie. scale the values such that sum of each column equals 1 (unit vectors)."
      ],
      "metadata": {
        "id": "mlZX_s1sMKhi"
      }
    },
    {
      "cell_type": "code",
      "source": [
        "# Create a 3x3 array with random values\n",
        "array = np.random.rand(3, 3)\n",
        "\n",
        "# Normalize the columns\n",
        "column_sums = np.sum(array, axis=0)\n",
        "normalized_array = array / column_sums\n",
        "\n",
        "print(\"Original array:\\n\", array)\n",
        "print(\"Normalized array:\\n\", normalized_array)\n",
        "print(\"Sum of each column in the normalized array:\", np.sum(normalized_array, axis=0))\n"
      ],
      "metadata": {
        "id": "P2Z80N5D2vSk",
        "colab": {
          "base_uri": "https://localhost:8080/"
        },
        "outputId": "b1e71e4b-4ba5-4b09-cfe0-9ffc04343410"
      },
      "execution_count": null,
      "outputs": [
        {
          "output_type": "stream",
          "name": "stdout",
          "text": [
            "Original array:\n",
            " [[0.66870303 0.63438478 0.50745085]\n",
            " [0.82549841 0.77954197 0.99703084]\n",
            " [0.25635901 0.66161158 0.75851032]]\n",
            "Normalized array:\n",
            " [[0.38199368 0.30564831 0.2242389 ]\n",
            " [0.47156235 0.37558544 0.44058081]\n",
            " [0.14644396 0.31876625 0.33518029]]\n",
            "Sum of each column in the normalized array: [1. 1. 1.]\n"
          ]
        }
      ]
    },
    {
      "cell_type": "markdown",
      "source": [
        "### **<font color='#306998'>TASK </font><font color='#ffd33b'>1.19</font>**\n",
        "\n",
        "Write a function that accepts a positive natural number $p\\in\\mathbb{N}_1$ and two NumPy vectors as an input (both of the same shape). The function should return the Mikowski distance between those vectors, ie.:\n",
        "$$d_p(X, Y) = \\left(\\sum_{i=1}^n |x_i - y_i|^p\\right)^\\frac{1}{p},$$\n",
        "\n",
        "where $X=[x_1, x_2, ..., x_n]\\in\\mathbb{R}^n$ and $Y=[y_1, y_2, ..., y_n]\\in\\mathbb{R}^n.$\n",
        "\n",
        "*Hint: you can use the following assertions `assert a.size == b.size, \"Arrays must be of the same shape\"`, and `assert isinstance(input_array_1, np.ndarray)`.*"
      ],
      "metadata": {
        "id": "FtWGs8x4MlYn"
      }
    },
    {
      "cell_type": "code",
      "source": [
        "def get_minkowski_distance(p, input_array_1, input_array_2):\n",
        "    # Ensure the inputs are NumPy arrays\n",
        "    assert isinstance(input_array_1, np.ndarray), \"input_array_1 must be a NumPy array\"\n",
        "    assert isinstance(input_array_2, np.ndarray), \"input_array_2 must be a NumPy array\"\n",
        "\n",
        "    # Ensure the arrays have the same shape\n",
        "    assert input_array_1.size == input_array_2.size, \"Arrays must be of the same shape\"\n",
        "\n",
        "    # Calculate the Minkowski distance\n",
        "    distance = np.sum(np.abs(input_array_1 - input_array_2) ** p) ** (1 / p)\n",
        "\n",
        "    return distance\n",
        "\n",
        "# Example usage\n",
        "X = np.array([1, 2, 3])\n",
        "Y = np.array([4, 5, 6])\n",
        "p = 3\n",
        "\n",
        "distance = get_minkowski_distance(p, X, Y)\n",
        "print(\"Minkowski distance:\", distance)\n"
      ],
      "metadata": {
        "id": "YgupUCLu2vkv"
      },
      "execution_count": null,
      "outputs": []
    },
    {
      "cell_type": "markdown",
      "source": [
        "### **<font color='#306998'>TASK </font><font color='#ffd33b'>1.20</font>**\n",
        "\n",
        "Determine the length of the following vectors using Euclidean norm:\n",
        "* $v_1=[0, 5]$\n",
        "* $v_2=[0, -3]$\n",
        "* $v_3=[7, 0]$\n",
        "* $v_4=[-\\pi, 0]$\n",
        "* $v_5=[3, -4]$\n",
        "* $v_6=[1, 7]$\n",
        "* $v_7=[5\\sqrt{3}, -3, 4]$\n",
        "* $v_8=[1, 2, 3, 4]$\n",
        "\n",
        "*Hint: using default parameters of `numpy.linalg.norm()` function will return Frobenius norm for matrices which is equivalent to Euclidean norm for vectors:*\n",
        "https://numpy.org/doc/stable/reference/generated/numpy.linalg.norm.html"
      ],
      "metadata": {
        "id": "hjThx18Fc2Qi"
      }
    },
    {
      "cell_type": "code",
      "source": [
        "# Define the vectors\n",
        "v1 = np.array([0, 5])\n",
        "v2 = np.array([0, -3])\n",
        "v3 = np.array([7, 0])\n",
        "v4 = np.array([-np.pi, 0])\n",
        "v5 = np.array([3, -4])\n",
        "v6 = np.array([1, 7])\n",
        "v7 = np.array([np.sqrt(53), -3, 4])\n",
        "v8 = np.array([1, 2, 3, 4])\n",
        "\n",
        "# Calculate the Euclidean norm for each vector\n",
        "norm_v1 = np.linalg.norm(v1)\n",
        "norm_v2 = np.linalg.norm(v2)\n",
        "norm_v3 = np.linalg.norm(v3)\n",
        "norm_v4 = np.linalg.norm(v4)\n",
        "norm_v5 = np.linalg.norm(v5)\n",
        "norm_v6 = np.linalg.norm(v6)\n",
        "norm_v7 = np.linalg.norm(v7)\n",
        "norm_v8 = np.linalg.norm(v8)\n",
        "\n",
        "# Print the results\n",
        "print(\"Euclidean norm of v1:\", norm_v1)\n",
        "print(\"Euclidean norm of v2:\", norm_v2)\n",
        "print(\"Euclidean norm of v3:\", norm_v3)\n",
        "print(\"Euclidean norm of v4:\", norm_v4)\n",
        "print(\"Euclidean norm of v5:\", norm_v5)\n",
        "print(\"Euclidean norm of v6:\", norm_v6)\n",
        "print(\"Euclidean norm of v7:\", norm_v7)\n",
        "print(\"Euclidean norm of v8:\", norm_v8)\n"
      ],
      "metadata": {
        "id": "10NqtALe3WD3",
        "colab": {
          "base_uri": "https://localhost:8080/"
        },
        "outputId": "57a3cb51-d32b-4db5-ebd4-30958089d14a"
      },
      "execution_count": null,
      "outputs": [
        {
          "output_type": "stream",
          "name": "stdout",
          "text": [
            "Euclidean norm of v1: 5.0\n",
            "Euclidean norm of v2: 3.0\n",
            "Euclidean norm of v3: 7.0\n",
            "Euclidean norm of v4: 3.141592653589793\n",
            "Euclidean norm of v5: 5.0\n",
            "Euclidean norm of v6: 7.0710678118654755\n",
            "Euclidean norm of v7: 8.831760866327848\n",
            "Euclidean norm of v8: 5.477225575051661\n"
          ]
        }
      ]
    },
    {
      "cell_type": "markdown",
      "source": [
        "### **<font color='#306998'>TASK </font><font color='#ffd33b'>1.21</font>**\n",
        "\n",
        "For the following vectors `a=[3, -2]` and `b=[-2, -3]`, determine their scalar product and the angle between these vectors.\n",
        "\n",
        "*Correct answer $\\alpha = 90^\\circ$.*"
      ],
      "metadata": {
        "id": "vStqDJ4rnSKK"
      }
    },
    {
      "cell_type": "code",
      "source": [
        "# Define the vectors\n",
        "a = np.array([3, -2])\n",
        "b = np.array([-2, -3])\n",
        "\n",
        "# Calculate the scalar product (dot product)\n",
        "dot_product = np.dot(a, b)\n",
        "print(\"Scalar product (dot product):\", dot_product)\n",
        "\n",
        "# Calculate the magnitudes of the vectors\n",
        "magnitude_a = np.linalg.norm(a)\n",
        "magnitude_b = np.linalg.norm(b)\n",
        "\n",
        "# Calculate the cosine of the angle\n",
        "cos_angle = dot_product / (magnitude_a * magnitude_b)\n",
        "\n",
        "# Calculate the angle in radians\n",
        "angle_radians = np.arccos(cos_angle)\n",
        "\n",
        "# Convert the angle to degrees\n",
        "angle_degrees = np.degrees(angle_radians)\n",
        "print(\"Angle between the vectors (in degrees):\", angle_degrees)\n"
      ],
      "metadata": {
        "id": "zNOBdivK3WrN",
        "colab": {
          "base_uri": "https://localhost:8080/"
        },
        "outputId": "563741a1-0839-4c86-bdff-02fb16fed96a"
      },
      "execution_count": null,
      "outputs": [
        {
          "output_type": "stream",
          "name": "stdout",
          "text": [
            "Scalar product (dot product): 0\n",
            "Angle between the vectors (in degrees): 90.0\n"
          ]
        }
      ]
    },
    {
      "cell_type": "markdown",
      "source": [
        "### **<font color='#306998'>TASK </font><font color='#ffd33b'>1.22</font>**\n",
        "\n",
        "For the following vectors `a=[0, 3]` and `b=[2, 2]`, determine their scalar product and the angle between these vectors.\n",
        "\n",
        "*Correct answer $\\alpha = 45^\\circ$.*"
      ],
      "metadata": {
        "id": "w9ia7byRnif-"
      }
    },
    {
      "cell_type": "code",
      "source": [
        "# Define the vectors\n",
        "a = np.array([0, 3])\n",
        "b = np.array([2, 2])\n",
        "\n",
        "# Calculate the scalar product (dot product)\n",
        "dot_product = np.dot(a, b)\n",
        "print(\"Scalar product (dot product):\", dot_product)\n",
        "\n",
        "# Calculate the magnitudes of the vectors\n",
        "magnitude_a = np.linalg.norm(a)\n",
        "magnitude_b = np.linalg.norm(b)\n",
        "\n",
        "# Calculate the cosine of the angle\n",
        "cos_angle = dot_product / (magnitude_a * magnitude_b)\n",
        "\n",
        "# Calculate the angle in radians\n",
        "angle_radians = np.arccos(cos_angle)\n",
        "\n",
        "# Convert the angle to degrees\n",
        "angle_degrees = np.degrees(angle_radians)\n",
        "print(\"Angle between the vectors (in degrees):\", angle_degrees)\n"
      ],
      "metadata": {
        "id": "UavbwPXD3W3Z",
        "colab": {
          "base_uri": "https://localhost:8080/"
        },
        "outputId": "52b782f8-f826-452d-b142-20190476b32c"
      },
      "execution_count": null,
      "outputs": [
        {
          "output_type": "stream",
          "name": "stdout",
          "text": [
            "Scalar product (dot product): 6\n",
            "Angle between the vectors (in degrees): 45.00000000000001\n"
          ]
        }
      ]
    },
    {
      "cell_type": "markdown",
      "source": [
        "### **<font color='#306998'>TASK </font><font color='#ffd33b'>1.23</font>**\n",
        "\n",
        "For the following vectors `a=[3, -2]` and `b=[1, 7]`, determine their scalar product and the angle between these vectors.\n",
        "\n",
        "*Correct answer $\\alpha ≈ 116^\\circ$.*"
      ],
      "metadata": {
        "id": "LcJuNR3smdft"
      }
    },
    {
      "cell_type": "code",
      "source": [
        "# Define the vectors\n",
        "a = np.array([3, -2])\n",
        "b = np.array([1, 7])\n",
        "\n",
        "# Calculate the scalar product (dot product)\n",
        "dot_product = np.dot(a, b)\n",
        "print(\"Scalar product (dot product):\", dot_product)\n",
        "\n",
        "# Calculate the magnitudes of the vectors\n",
        "magnitude_a = np.linalg.norm(a)\n",
        "magnitude_b = np.linalg.norm(b)\n",
        "\n",
        "# Calculate the cosine of the angle\n",
        "cos_angle = dot_product / (magnitude_a * magnitude_b)\n",
        "\n",
        "# Calculate the angle in radians\n",
        "angle_radians = np.arccos(cos_angle)\n",
        "\n",
        "# Convert the angle to degrees\n",
        "angle_degrees = np.degrees(angle_radians)\n",
        "print(\"Angle between the vectors (in degrees):\", angle_degrees)\n"
      ],
      "metadata": {
        "id": "asXRQxg_3XL6",
        "colab": {
          "base_uri": "https://localhost:8080/"
        },
        "outputId": "1a62f5e7-bae0-4677-9901-4e46f6f6eb78"
      },
      "execution_count": null,
      "outputs": [
        {
          "output_type": "stream",
          "name": "stdout",
          "text": [
            "Scalar product (dot product): -11\n",
            "Angle between the vectors (in degrees): 115.55996517182382\n"
          ]
        }
      ]
    },
    {
      "cell_type": "markdown",
      "source": [
        "### **<font color='#306998'>TASK </font><font color='#ffd33b'>1.24</font>**\n",
        "\n",
        "Normalize each vector from Task 20."
      ],
      "metadata": {
        "id": "vIV-LzBHcz64"
      }
    },
    {
      "cell_type": "code",
      "source": [
        "import numpy as np\n",
        "\n",
        "# Define the vectors\n",
        "v1 = np.array([0, 5])\n",
        "v2 = np.array([0, -3])\n",
        "v3 = np.array([7, 0])\n",
        "v4 = np.array([-np.pi, 0])\n",
        "v5 = np.array([3, -4])\n",
        "v6 = np.array([1, 7])\n",
        "v7 = np.array([np.sqrt(53), -3, 4])\n",
        "v8 = np.array([1, 2, 3, 4])\n",
        "\n",
        "# Calculate the Euclidean norm for each vector\n",
        "norm_v1 = np.linalg.norm(v1)\n",
        "norm_v2 = np.linalg.norm(v2)\n",
        "norm_v3 = np.linalg.norm(v3)\n",
        "norm_v4 = np.linalg.norm(v4)\n",
        "norm_v5 = np.linalg.norm(v5)\n",
        "norm_v6 = np.linalg.norm(v6)\n",
        "norm_v7 = np.linalg.norm(v7)\n",
        "norm_v8 = np.linalg.norm(v8)\n",
        "\n",
        "# Print the results\n",
        "print(\"Euclidean norm of v1:\", norm_v1)\n",
        "print(\"Euclidean norm of v2:\", norm_v2)\n",
        "print(\"Euclidean norm of v3:\", norm_v3)\n",
        "print(\"Euclidean norm of v4:\", norm_v4)\n",
        "print(\"Euclidean norm of v5:\", norm_v5)\n",
        "print(\"Euclidean norm of v6:\", norm_v6)\n",
        "print(\"Euclidean norm of v7:\", norm_v7)\n",
        "print(\"Euclidean norm of v8:\", norm_v8)\n",
        "\n",
        "# Normalize the vectors\n",
        "normalized_v1 = v1 / np.linalg.norm(v1)\n",
        "normalized_v2 = v2 / np.linalg.norm(v2)\n",
        "normalized_v3 = v3 / np.linalg.norm(v3)\n",
        "normalized_v4 = v4 / np.linalg.norm(v4)\n",
        "normalized_v5 = v5 / np.linalg.norm(v5)\n",
        "normalized_v6 = v6 / np.linalg.norm(v6)\n",
        "normalized_v7 = v7 / np.linalg.norm(v7)\n",
        "normalized_v8 = v8 / np.linalg.norm(v8)\n",
        "\n",
        "# Print the normalized vectors\n",
        "print(\"Normalized v1:\", normalized_v1)\n",
        "print(\"Normalized v2:\", normalized_v2)\n",
        "print(\"Normalized v3:\", normalized_v3)\n",
        "print(\"Normalized v4:\", normalized_v4)\n",
        "print(\"Normalized v5:\", normalized_v5)\n",
        "print(\"Normalized v6:\", normalized_v6)\n",
        "print(\"Normalized v7:\", normalized_v7)\n",
        "print(\"Normalized v8:\", normalized_v8)\n",
        "\n"
      ],
      "metadata": {
        "id": "-wmnUGrn3XrY",
        "colab": {
          "base_uri": "https://localhost:8080/"
        },
        "outputId": "97bd4572-1bf5-4e1c-bf89-27bc6e6e3134"
      },
      "execution_count": null,
      "outputs": [
        {
          "output_type": "stream",
          "name": "stdout",
          "text": [
            "Euclidean norm of v1: 5.0\n",
            "Euclidean norm of v2: 3.0\n",
            "Euclidean norm of v3: 7.0\n",
            "Euclidean norm of v4: 3.141592653589793\n",
            "Euclidean norm of v5: 5.0\n",
            "Euclidean norm of v6: 7.0710678118654755\n",
            "Euclidean norm of v7: 8.831760866327848\n",
            "Euclidean norm of v8: 5.477225575051661\n",
            "Normalized v1: [0. 1.]\n",
            "Normalized v2: [ 0. -1.]\n",
            "Normalized v3: [1. 0.]\n",
            "Normalized v4: [-1.  0.]\n",
            "Normalized v5: [ 0.6 -0.8]\n",
            "Normalized v6: [0.14142136 0.98994949]\n",
            "Normalized v7: [ 0.82431012 -0.33968311  0.45291081]\n",
            "Normalized v8: [0.18257419 0.36514837 0.54772256 0.73029674]\n"
          ]
        }
      ]
    },
    {
      "cell_type": "markdown",
      "source": [
        "<img src=\"https://drive.google.com/uc?export=view&id=141XOz6N4nk8Ru1sAl7vOsAToCLrSFCAX\" alt=\"SDA logo\" width=\"150\" align='right'/>\n",
        "<br>\n",
        "\n",
        "## Appendix: random numbers generators\n",
        "\n",
        "1. Randomly generated number(s) from normal (Gauss) distribution.\n",
        "```python\n",
        "np.random.normal()\n",
        "np.random.normal(size=6)\n",
        "```\n",
        "1. Randomly selected numbers from the uniform system.\n",
        "```python\n",
        "np.random.uniform(size=6)\n",
        "```\n",
        "1. Randomly selected number from a specific range.\n",
        "```python\n",
        "np.random.randint(3, 30, size=6)\n",
        "```\n",
        "1. Randomly selected floating-point number\n",
        "```python\n",
        "np.random.random()\n",
        "```"
      ],
      "metadata": {
        "id": "_-0DTxon5EwJ"
      }
    },
    {
      "cell_type": "code",
      "source": [],
      "metadata": {
        "id": "VBCgID245FEQ"
      },
      "execution_count": null,
      "outputs": []
    }
  ]
}